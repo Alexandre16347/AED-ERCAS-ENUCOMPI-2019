{
 "cells": [
  {
   "cell_type": "markdown",
   "metadata": {
    "colab": {
     "base_uri": "https://localhost:8080/",
     "height": 238
    },
    "colab_type": "code",
    "id": "dAZn-O_gA1qE",
    "outputId": "538d0daa-6ff4-4c67-b9ce-67c5559ee2b0"
   },
   "source": [
    "<center>\n",
    "<img src=logo.png/>\n",
    "\n",
    "   ---\n",
    "# Introdução a Análise Exploratória de Dados com Python\n",
    "## ERCAS-PI & ENUCOMPI 2019\n",
    "</center>\n",
    "\n",
    "   ---\n",
    "\n",
    "__Conteúdo:__\n",
    "\n",
    "- Pandas - Parte I:\n",
    "  - Visão Geral\n",
    "  - Terminologia\n",
    "  - Estruturas de Dados\n",
    "\n",
    "- Medidas de Tendência Central - Parte II:\n",
    "  - Média\n",
    "  - Mediana\n",
    "  - Moda\n",
    "  - Outras médias\n",
    "      - Média geométrica\n",
    "      - Média harmônica\n",
    "\n",
    "- Medidas de Dispersão - Parte III:\n",
    "  - Amplitude\n",
    "  - Variância\n",
    "  - Desvio Padrão\n",
    "\n",
    "- Visualização Gráfica - Parte IV:\n",
    "- Correlação - Parte V:"
   ]
  },
  {
   "cell_type": "markdown",
   "metadata": {},
   "source": [
    "### Bibliotecas necessárias para AED."
   ]
  },
  {
   "cell_type": "code",
   "execution_count": null,
   "metadata": {
    "colab": {},
    "colab_type": "code",
    "id": "ZSc616zEHGcZ"
   },
   "outputs": [],
   "source": [
    "import numpy as np\n",
    "import pandas as pd\n",
    "import seaborn as sns\n",
    "import matplotlib.pyplot as plt\n",
    "\n",
    "#need to set backe of matplotlib to inline to view visual in Jupyter Notebook\n",
    "%matplotlib inline"
   ]
  },
  {
   "cell_type": "markdown",
   "metadata": {},
   "source": [
    "---\n",
    "## Pandas - Parte I\n",
    "---"
   ]
  },
  {
   "cell_type": "markdown",
   "metadata": {},
   "source": [
    "O Pandas é uma biblioteca licenciada com código aberto que oferece estruturas de dados de alto desempenho e de fácil utilização voltado a análise de dados para a linguagem de programação Python.\n",
    "- Transforma dados de entrada em uma tabela de dados\n",
    "- Componentes chave\n",
    "  - Series (Séries)\n",
    "  - DataFrame"
   ]
  },
  {
   "cell_type": "markdown",
   "metadata": {},
   "source": [
    "### Séries (Series)\n",
    "- Objeto unidimensional do tipo array contendo dados e rótulos (labels) (ou índices), criado sobre o numpy\n",
    "- Se um índice não for informado explicitamente, Pandas cria um automaticamente (equivalente a `range(N)`, sendo N é o tamanho dos seus dados)\n",
    "- O índice é usado para implementar buscas rápidas, alinhamento de dados e operações de junção (como join em SQL)\n",
    "- Suporta índices hierárquicos, onde cada label é uma tupla"
   ]
  },
  {
   "cell_type": "code",
   "execution_count": null,
   "metadata": {
    "colab": {
     "base_uri": "https://localhost:8080/",
     "height": 238
    },
    "colab_type": "code",
    "id": "bJ_qK0KkosrE",
    "outputId": "0b0a25a3-878c-477e-92a0-c331b6eb5335"
   },
   "outputs": [],
   "source": [
    "# Criando uma série\n",
    "my_serie = pd.Series([10,20,30,40,50])\n",
    "print(my_serie)\n",
    "print(my_serie[2])\n",
    "my_serie.index = ['A', 'B', 'C', 'D', 'E']\n",
    "print(my_serie)"
   ]
  },
  {
   "cell_type": "markdown",
   "metadata": {},
   "source": [
    "- Conteúdos podem ser acessados via um ou mais índices"
   ]
  },
  {
   "cell_type": "code",
   "execution_count": null,
   "metadata": {},
   "outputs": [],
   "source": [
    "print(my_serie['A'])\n",
    "print(my_serie[['C','E']])"
   ]
  },
  {
   "cell_type": "markdown",
   "metadata": {},
   "source": [
    "- slicing funciona para índices numéricos e nominais"
   ]
  },
  {
   "cell_type": "code",
   "execution_count": null,
   "metadata": {},
   "outputs": [],
   "source": [
    "print(my_serie[0])\n",
    "print(my_serie[0:2])\n",
    "print(my_serie['B':'E']) # slicing com índice nominal é inclusivo\n",
    "                       # (último elemento é incluido na fatia)"
   ]
  },
  {
   "cell_type": "markdown",
   "metadata": {},
   "source": [
    "- máscaras boolenas também podem ser usadas"
   ]
  },
  {
   "cell_type": "code",
   "execution_count": null,
   "metadata": {},
   "outputs": [],
   "source": [
    "mask = (my_serie >= 30)\n",
    "print(my_serie[mask])"
   ]
  },
  {
   "cell_type": "markdown",
   "metadata": {},
   "source": [
    "- reindex\n",
    "  - modifica o valor do índice, adiciona valores faltantes ou preenche valores faltantes"
   ]
  },
  {
   "cell_type": "code",
   "execution_count": null,
   "metadata": {},
   "outputs": [],
   "source": [
    "s = pd.Series(np.arange(3)) # neste caso o indice é criado automaticamente\n",
    "print('original')\n",
    "print(s)\n",
    "\n",
    "print('\\nreindexado')\n",
    "s_nan = s.reindex([4,3,2,1,0])\n",
    "print(s_nan)"
   ]
  },
  {
   "cell_type": "code",
   "execution_count": null,
   "metadata": {},
   "outputs": [],
   "source": [
    "print('\\n reindexado (tratando valores faltantes, método 1)')\n",
    "s_fvalue = s.reindex([4,3,2,1,0], fill_value=-1)\n",
    "print(s_fvalue)\n",
    "\n",
    "print('\\nreindexado (tratando valores faltantes, método 2)')\n",
    "s_auto = s.reindex([3,2,1,0,5,6], method='nearest')\n",
    "print(s_auto)"
   ]
  },
  {
   "cell_type": "markdown",
   "metadata": {},
   "source": [
    "- Operações aritméticas (realizada de acordo com o \"match\" dos indices)"
   ]
  },
  {
   "cell_type": "code",
   "execution_count": null,
   "metadata": {},
   "outputs": [],
   "source": [
    "print(s_fvalue) \n",
    "print(s_auto) \n",
    "print(s_fvalue+s_auto)"
   ]
  },
  {
   "cell_type": "markdown",
   "metadata": {},
   "source": [
    "- é possívle organizar os elementos de uma série pelo índice ou pelos valores"
   ]
  },
  {
   "cell_type": "code",
   "execution_count": null,
   "metadata": {},
   "outputs": [],
   "source": [
    "r = pd.Series(np.random.rand(4), index=['d','a','b','c'])\n",
    "print(r)\n",
    "print(r.sort_index())\n",
    "print(r.sort_values())"
   ]
  },
  {
   "cell_type": "markdown",
   "metadata": {},
   "source": [
    "- Há muitos métodos implementados para operar nos valores. Alguns exemplo, são:\n",
    "  - unique()\n",
    "  - value_counts()\n",
    "  - isin()\n",
    "  - ...(muito mais na parte II, próxima aula)"
   ]
  },
  {
   "cell_type": "code",
   "execution_count": null,
   "metadata": {},
   "outputs": [],
   "source": [
    "s = pd.Series(['c','a','d','a','a','b','b','c','c'])\n",
    "print(s.unique())\n",
    "print(s.value_counts())\n",
    "print(s.isin(['b','d']))"
   ]
  },
  {
   "cell_type": "markdown",
   "metadata": {},
   "source": [
    "### DataFrames\n",
    "Dataframe é uma estrutura de dados tabular bidimensional e mutável em tamanho, potencialmente heterogênea, com eixos rotulados (linhas e colunas).\n",
    "- Possui índices de linhas e colunas\n",
    "- Pode ser interpretado como um dicionário de Séries (cada série em uma linha) em que todas as Séries compartilham o mesmo conjunto de índices (os índices das colunas)"
   ]
  },
  {
   "cell_type": "markdown",
   "metadata": {},
   "source": [
    "Dataframes podem ser criados de muitas maneiras diferentes:\n",
    "- __2-D NumPy array:__ Uma matriz de dados, podendo passar os índices de linha e coluna\n",
    "- __Dict of arrays, lists, or tuples:__ Cada sequência se torna uma coluna. As sequências devem ter o mesmo número de elementos\n",
    "- __Dict of Series:__ Cada séries se torna uma coluna. Índices de cada séries são unidos para formar o índice das linhas\n",
    "- __Dict of dicts:__ Cada dicionário se torna uma coluna. Chaves dos dicionários se unem para formar os índices das linhas\n",
    "- __List of dicts or Series:__ Cada item se torna uma linha no DataFrame. A unidão das chaves (para dicionário) ou índices (para Séries) gera o índice das colunas\n",
    "- __List of lists or tuples:__\tSimilar a uma matriz do numpy\n",
    "- __DataFrame:__ O índice do DataFrame é mantido a não ser que um novo seja fornecido \n",
    "- __NumPy masked array:__ Matriz de dados em que valores falso se tornam NaN\n"
   ]
  },
  {
   "cell_type": "code",
   "execution_count": null,
   "metadata": {
    "colab": {
     "base_uri": "https://localhost:8080/",
     "height": 173
    },
    "colab_type": "code",
    "id": "8WD6nM6dxnU7",
    "outputId": "827831e8-ac7e-4467-8fdf-5e198d1c8fb4"
   },
   "outputs": [],
   "source": [
    "# intialise data of lists.\n",
    "data = {'Name':['Tom', 'nick', 'krish', 'jack'],\n",
    "        'Age':[20, 21, 19, 18]}\n",
    " \n",
    "# Create DataFrame\n",
    "df = pd.DataFrame(data)\n",
    " \n",
    "# Print the output.\n",
    "df"
   ]
  },
  {
   "cell_type": "markdown",
   "metadata": {},
   "source": [
    "**Atenção:** Duas funções são muito úteis para analisar rapidamente um novo DataFrame: df.head() e df.dtypes()"
   ]
  },
  {
   "cell_type": "code",
   "execution_count": null,
   "metadata": {},
   "outputs": [],
   "source": [
    "df.head()"
   ]
  },
  {
   "cell_type": "code",
   "execution_count": null,
   "metadata": {},
   "outputs": [],
   "source": [
    "df.dtypes"
   ]
  },
  {
   "cell_type": "markdown",
   "metadata": {},
   "source": [
    "#### Manipulando e Acessando Colunas"
   ]
  },
  {
   "cell_type": "markdown",
   "metadata": {},
   "source": [
    "- Colunas podem ser acessadas:\n",
    "  - usando seus rótulos dentro de []\n",
    "  - usando rótulo como atributo\n",
    "  - usando lista de rótulos dentro de [] (acessa várias colunas)"
   ]
  },
  {
   "cell_type": "code",
   "execution_count": null,
   "metadata": {},
   "outputs": [],
   "source": [
    "# Criando um dataframe com um dicionário de listas\n",
    "d = {'state' : ['FL', 'FL', 'GA', 'GA', 'GA'],\n",
    "     'year' :  [2010, 2011, 2008, 2010, 2011],\n",
    "     'pop' :   [18.8, 19.1, 9.7, 9.7, 9.8]}\n",
    "\n",
    "df_d = pd.DataFrame(d)\n",
    "df_d"
   ]
  },
  {
   "cell_type": "code",
   "execution_count": null,
   "metadata": {},
   "outputs": [],
   "source": [
    "print(df_d.columns.values)  # imprime o nome das colunas\n",
    "print(5*'-')\n",
    "print(df_d['pop'])\n",
    "print(5*'-')\n",
    "print(df_d.state)\n",
    "print(5*'-')\n",
    "print(df_d[['pop','year']])"
   ]
  },
  {
   "cell_type": "markdown",
   "metadata": {},
   "source": [
    "- Colunas podem ser criadas simplesmente criando um novo rótulo\n",
    "- Colunas podem ser removidas usando o método `drop` ou `del`"
   ]
  },
  {
   "cell_type": "code",
   "execution_count": null,
   "metadata": {},
   "outputs": [],
   "source": [
    "print(df_d)\n",
    "# criando uma nova coluna\n",
    "df_d['new_col'] = np.zeros((df_d.shape[0])) # o comando shape funciona como no numpy\n",
    "print(df_d)\n",
    "# removendo a nova coluna\n",
    "df_d = df_d.drop(['new_col'], axis=1) # OU del df_d['new_col']\n",
    "print(df_d)"
   ]
  },
  {
   "cell_type": "markdown",
   "metadata": {},
   "source": [
    "#### Manipulando e Acessando Linhas"
   ]
  },
  {
   "cell_type": "markdown",
   "metadata": {},
   "source": [
    "- linhas podem ser acessadas usando:\n",
    "  - iloc: manipula o DataFrame como uma matriz com índices inteiros, assim como no Numpy\n",
    "  - loc: seleciona linhas pelos rótulos (índices) ou por máscara booleana"
   ]
  },
  {
   "cell_type": "code",
   "execution_count": null,
   "metadata": {},
   "outputs": [],
   "source": [
    "print(df_d)\n",
    "print(5*'-')\n",
    "print(df_d.iloc[2]) # retorna uma linha como uma série (rótulo da linha se torna o rótulo de coluna)\n",
    "print(5*'-')\n",
    "print(type(df_d.iloc[2]))\n",
    "print(5*'-')\n",
    "print(df_d.iloc[2:4,1:])  \n",
    "print(5*'-')\n",
    "print(type(df_d.iloc[2:4,1:]))"
   ]
  },
  {
   "cell_type": "code",
   "execution_count": null,
   "metadata": {},
   "outputs": [],
   "source": [
    "# Criando um dataframe com um dicionário de dicionários\n",
    "dod = {'FL' : {2010:18.1, 2011:19.1},\n",
    "       'GA' : {2008: 9.7, 2010: 9.7, 2011:9.8}}\n",
    "\n",
    "df_dod = pd.DataFrame(dod)\n",
    "print(df_dod)"
   ]
  },
  {
   "cell_type": "code",
   "execution_count": null,
   "metadata": {},
   "outputs": [],
   "source": [
    "print(df_dod)\n",
    "print()\n",
    "print(df_dod.loc[2008])\n",
    "print()\n",
    "print(df_dod.loc[[2010, 2011]])\n",
    "print()\n",
    "print(df_dod.loc[df_dod['GA'] == 9.7]) # loc aceita expressoes booleanas"
   ]
  },
  {
   "cell_type": "code",
   "execution_count": null,
   "metadata": {},
   "outputs": [],
   "source": [
    "# as expressoes booleanas podem ser combinadas\n",
    "# & é o operador lógico AND\n",
    "# Existe também o operador lógico OR | (barra vertical)\n",
    "print(df_d.loc[(df_d['state'] == 'GA') & (df_d['year'] >= 2010)])"
   ]
  },
  {
   "cell_type": "code",
   "execution_count": null,
   "metadata": {},
   "outputs": [],
   "source": [
    "# retornando uma lista tipo 'mascara booleana'\n",
    "print('cond 1')\n",
    "print(df_d['state'] == 'GA') \n",
    "\n",
    "print('\\ncond 2')\n",
    "print(df_d['year'] >= 2010)\n",
    "\n",
    "print('\\nand (&)')\n",
    "print((df_d['state'] == 'GA') & (df_d['year'] >= 2010))\n",
    "\n",
    "print('\\nor (&)')\n",
    "print((df_d['state'] == 'GA') | (df_d['year'] >= 2010))"
   ]
  },
  {
   "cell_type": "code",
   "execution_count": null,
   "metadata": {},
   "outputs": [],
   "source": [
    "# Uma outra forma é utilizar a função query\n",
    "print(df_d.query(\"state == 'GA' and year >= 2010\"))"
   ]
  },
  {
   "cell_type": "markdown",
   "metadata": {},
   "source": [
    "- Assim como nas Séries, também é possível ordernar por índice, mas ao ordernar por valor é necessário definir a coluna"
   ]
  },
  {
   "cell_type": "code",
   "execution_count": null,
   "metadata": {},
   "outputs": [],
   "source": [
    "df_d.sort_values('year')"
   ]
  },
  {
   "cell_type": "code",
   "execution_count": null,
   "metadata": {},
   "outputs": [],
   "source": [
    "df_d.sort_values('pop')"
   ]
  },
  {
   "cell_type": "markdown",
   "metadata": {},
   "source": [
    "**Atenção:** sort_values, gera uma cópia. Para modificar o DataFrame, deve-se passar o parâmetro `inplace = True`"
   ]
  },
  {
   "cell_type": "code",
   "execution_count": null,
   "metadata": {},
   "outputs": [],
   "source": [
    "print(df_d.sort_values('pop'))\n",
    "print(df_d)\n",
    "df_d.sort_values('pop',inplace=True)\n",
    "print(df_d)"
   ]
  },
  {
   "cell_type": "markdown",
   "metadata": {},
   "source": [
    "## Carregando arquivos\n",
    "Pandas permite diversas maneiras de carregas arquivos:\n",
    "- Arquivos de texto\n",
    "- Dados estruturados (JSON, XML, HTML, CSV)\n",
    "- Excel (depende das biblitoecas xlrd e  openpyxl)\n",
    "- Direto de base de dados\n",
    "  - pandas.io.sql  (read_frame)"
   ]
  },
  {
   "cell_type": "code",
   "execution_count": null,
   "metadata": {
    "colab": {
     "base_uri": "https://localhost:8080/",
     "height": 224
    },
    "colab_type": "code",
    "id": "eXLkwuScTlzY",
    "outputId": "febcecb3-6f7a-4f2d-a320-d14199249f30"
   },
   "outputs": [],
   "source": [
    "pnad_df = pd.read_csv(\"pnad.csv\")\n",
    "pnad_df.head()"
   ]
  },
  {
   "cell_type": "code",
   "execution_count": null,
   "metadata": {},
   "outputs": [],
   "source": [
    "bolsa_df = pd.read_csv('bolsa.csv')\n",
    "bolsa_df.head()"
   ]
  },
  {
   "cell_type": "code",
   "execution_count": null,
   "metadata": {
    "colab": {
     "base_uri": "https://localhost:8080/",
     "height": 34
    },
    "colab_type": "code",
    "id": "ZMsBk8JehKpT",
    "outputId": "30b0a646-ce00-4f25-a013-bec84b13a814"
   },
   "outputs": [],
   "source": [
    "pnad_df.shape"
   ]
  },
  {
   "cell_type": "code",
   "execution_count": null,
   "metadata": {
    "colab": {
     "base_uri": "https://localhost:8080/",
     "height": 68
    },
    "colab_type": "code",
    "id": "J0K6VbF8f47G",
    "outputId": "7659e233-c4bd-4a03-8c44-2458d78156ed"
   },
   "outputs": [],
   "source": [
    "pnad_df['sexo'].value_counts()"
   ]
  },
  {
   "cell_type": "markdown",
   "metadata": {},
   "source": [
    "---\n",
    "# Medidas de Tendência Central - Parte II\n",
    "---\n",
    "As medidas de tendência central ou \"de posição\" procuram caracterizar a tendência do conjunto (valor \"típico\") a um valor numérico que \"represente\" o conjunto. Esse valor pode ser calculado levando em conta todos os valores do conjunto ou apenas alguns valores ordenados."
   ]
  },
  {
   "cell_type": "markdown",
   "metadata": {},
   "source": [
    "## Média\n",
    "A média aritmética simples é a soma dos valores observados dividida pelo número desses valores, definida da seguinte forma:\n",
    "\n",
    "$$\\overline{x} = \\frac{x_{1} + x_{2} + \\ldots + x_{n}}{n} = \\frac{\\displaystyle\\sum_{i=1}^{n} x_{i}}{n}$$"
   ]
  },
  {
   "cell_type": "markdown",
   "metadata": {},
   "source": [
    "- Existem duas formas de se calcular a média."
   ]
  },
  {
   "cell_type": "code",
   "execution_count": null,
   "metadata": {
    "colab": {
     "base_uri": "https://localhost:8080/",
     "height": 34
    },
    "colab_type": "code",
    "id": "3sxTWTdBnvnR",
    "outputId": "fafe655b-8959-45cc-94b2-b3175717b2fc"
   },
   "outputs": [],
   "source": [
    "media_idade = pnad_df['idade'].sum() / len(pnad_df['idade'])\n",
    "print(media_idade)"
   ]
  },
  {
   "cell_type": "code",
   "execution_count": null,
   "metadata": {
    "colab": {
     "base_uri": "https://localhost:8080/",
     "height": 34
    },
    "colab_type": "code",
    "id": "KtfrmcCjhOtn",
    "outputId": "c503387e-6b25-4b5f-9be7-9be95282bd03"
   },
   "outputs": [],
   "source": [
    "pnad_df['idade'].mean()"
   ]
  },
  {
   "cell_type": "markdown",
   "metadata": {},
   "source": [
    "**Atenção:** Tenha certeza que não exista na coluna valores nulos."
   ]
  },
  {
   "cell_type": "code",
   "execution_count": null,
   "metadata": {},
   "outputs": [],
   "source": [
    "media_rendimento = pnad_df['rendimento'].sum() / len(pnad_df['rendimento'])\n",
    "print(media_rendimento)"
   ]
  },
  {
   "cell_type": "code",
   "execution_count": null,
   "metadata": {
    "colab": {
     "base_uri": "https://localhost:8080/",
     "height": 34
    },
    "colab_type": "code",
    "id": "uPcISVCHhpiv",
    "outputId": "f8f33213-b775-437f-ac54-63f9baccb3d8"
   },
   "outputs": [],
   "source": [
    "pnad_df['rendimento'].mean()"
   ]
  },
  {
   "cell_type": "markdown",
   "metadata": {},
   "source": [
    "## Mediana\n",
    "A mediana é o valor médio ou a média aritmética de dois valores centrais de um conjunto de números ordenados (crescente ou decrescente)."
   ]
  },
  {
   "cell_type": "code",
   "execution_count": null,
   "metadata": {},
   "outputs": [],
   "source": [
    "pnad_df['idade'].median()"
   ]
  },
  {
   "cell_type": "code",
   "execution_count": null,
   "metadata": {
    "colab": {
     "base_uri": "https://localhost:8080/",
     "height": 34
    },
    "colab_type": "code",
    "id": "jGmHv91isV4C",
    "outputId": "f8955b61-82e1-42d8-fb15-bb77389111d0"
   },
   "outputs": [],
   "source": [
    "pnad_df['rendimento'].median()"
   ]
  },
  {
   "cell_type": "markdown",
   "metadata": {},
   "source": [
    "## Moda\n",
    "A moda é o valor que ocorre com maior frequência em um dado conjunto de dados."
   ]
  },
  {
   "cell_type": "code",
   "execution_count": null,
   "metadata": {},
   "outputs": [],
   "source": [
    "pnad_df['idade'].mode()"
   ]
  },
  {
   "cell_type": "code",
   "execution_count": null,
   "metadata": {
    "colab": {
     "base_uri": "https://localhost:8080/",
     "height": 51
    },
    "colab_type": "code",
    "id": "ffq59rCgsZeC",
    "outputId": "2aa7f0e9-bc62-4348-8cd7-fb5cf639eea8"
   },
   "outputs": [],
   "source": [
    "pnad_df['rendimento'].mode()"
   ]
  },
  {
   "cell_type": "markdown",
   "metadata": {},
   "source": [
    "**Atenção:** A moda pode não existir"
   ]
  },
  {
   "cell_type": "code",
   "execution_count": null,
   "metadata": {
    "scrolled": true
   },
   "outputs": [],
   "source": [
    "bolsa_df['VOL'].mode()"
   ]
  },
  {
   "cell_type": "markdown",
   "metadata": {},
   "source": [
    "## Outras médias\n",
    "Algumas vezes é interessante calcular médias de forma diferente para dados com características especiais."
   ]
  },
  {
   "cell_type": "markdown",
   "metadata": {},
   "source": [
    "### Média Geométrica\n",
    "As médias geométricas são bastante empregadas para observações positivas referentes a crescimentos exponenciais, definida da seguinte forma:\n",
    "\n",
    "$$ G = \\sqrt[n]{x_{1} \\times x_{2} \\times \\ldots \\times x_{n}} = \\sqrt[n]{\\prod_{i=1}^{n} x_{i}} $$"
   ]
  },
  {
   "cell_type": "markdown",
   "metadata": {},
   "source": [
    "### Média Harmônica\n",
    "Para fenômenos que dependem fortemente do menor dos dados, em geral, utiliza-se médias harmônicas calculadas como o inverso da média dos inversos de um conjunto de dados, definida da seguinte forma:\n",
    "\n",
    "$$ H = \\frac{1}{\\frac{\\displaystyle \\frac{1}{x_{1}} + \\frac{1}{x_{2}} +\\ldots + \\frac{1}{x_{n}}}{\\displaystyle n}} = \\frac{n}{\\displaystyle \\sum_{i=1}^{n}\\frac{1}{x_{i}}} $$"
   ]
  },
  {
   "cell_type": "markdown",
   "metadata": {},
   "source": [
    "Para o cálculo das médias geometricas e harmônicas utilizaremos as funções $gmean()$ e $hmean()$, respectivamente, do módulo $scipy.stats$ da biblioteca SciPy . O módulo $scipy.stats$ contém um grande número de distribuições de probabilidade, bem como uma crescente biblioteca de funções estatísticas.\n"
   ]
  },
  {
   "cell_type": "code",
   "execution_count": null,
   "metadata": {
    "colab": {
     "base_uri": "https://localhost:8080/",
     "height": 51
    },
    "colab_type": "code",
    "id": "5v5lwlPlqSKq",
    "outputId": "517b4c50-b9a0-414c-a68a-945b97aaedaf"
   },
   "outputs": [],
   "source": [
    "#importanto o modulo do scipy para calculo da media geometrica e harmonica\n",
    "from scipy import stats\n",
    "\n",
    "#Definindo o dataset para o calculo da media geometrica e harmonica\n",
    "var = {'t1':[2,6,15,59],'t2':[2000,20,250,1500]}\n",
    "other_means_df = pd.DataFrame(var)\n",
    "\n",
    "other_means_df.head()"
   ]
  },
  {
   "cell_type": "code",
   "execution_count": null,
   "metadata": {},
   "outputs": [],
   "source": [
    "#calculo da media geometrica\n",
    "geometric_mean = stats.gmean(other_means_df['t1'],axis=0)\n",
    "print(\"Media Geometrica:\", geometric_mean)\n",
    "\n",
    "#calculo da media harmonica\n",
    "harmonic_mean = stats.hmean(other_means_df['t2'],axis=0)\n",
    "print(\"Media Harmonica:\", harmonic_mean)"
   ]
  },
  {
   "cell_type": "markdown",
   "metadata": {},
   "source": [
    "---\n",
    "# Medidas de Dispersão ou Variabilidade - Parte III\n",
    "---\n",
    "\n",
    "As medidas de dispersão ou variabilidade indicam se os valores de conjunto de dados estão relativamente próximos uns dos outros, ou separados. Todas elas têm na média o ponto de referência."
   ]
  },
  {
   "cell_type": "markdown",
   "metadata": {},
   "source": [
    "## Amplitude\n",
    "A amplitude ou intervalo total ($I_{t}$) de um conjunto de dados ($x_{1}, x_{2},\\ldots,x_{n}$) é a diferença entre o maior valor e o menor valor, definido da seguinte forma:\n",
    "\n",
    "$$ I_{t} = x_{max} - x_{min}, $$\n",
    "\n",
    "onde\n",
    "\n",
    "$x_{max} = $ valor máximo do conjunto de dados, isto é, $max\\{x_{1}, x_{2},\\ldots,x_{n}\\}$;\n",
    "\n",
    "$x_{min} = $ valor mínimo do conjunto de dados, isto é, $min\\{x_{1}, x_{2},\\ldots,x_{n}\\}$."
   ]
  },
  {
   "cell_type": "code",
   "execution_count": null,
   "metadata": {
    "colab": {
     "base_uri": "https://localhost:8080/",
     "height": 34
    },
    "colab_type": "code",
    "id": "4EKIF4HEkFyB",
    "outputId": "ad8e3117-133d-48a7-91a0-a9e7b681093c"
   },
   "outputs": [],
   "source": [
    "pnad_df['rendimento'].min()"
   ]
  },
  {
   "cell_type": "code",
   "execution_count": null,
   "metadata": {},
   "outputs": [],
   "source": [
    "pnad_df['idade'].min()"
   ]
  },
  {
   "cell_type": "code",
   "execution_count": null,
   "metadata": {
    "colab": {
     "base_uri": "https://localhost:8080/",
     "height": 34
    },
    "colab_type": "code",
    "id": "RgVdIPXSkW5z",
    "outputId": "f58fa42a-f76a-4bf3-994d-f581b05794d4"
   },
   "outputs": [],
   "source": [
    "pnad_df['rendimento'].max()"
   ]
  },
  {
   "cell_type": "code",
   "execution_count": null,
   "metadata": {},
   "outputs": [],
   "source": [
    "pnad_df['idade'].max()"
   ]
  },
  {
   "cell_type": "code",
   "execution_count": null,
   "metadata": {
    "colab": {
     "base_uri": "https://localhost:8080/",
     "height": 34
    },
    "colab_type": "code",
    "id": "PvFZLlhcOS0X",
    "outputId": "58a2bc64-49e2-4e41-8bcd-cc11ba0215bc"
   },
   "outputs": [],
   "source": [
    "amplitude_rendimento = pnad_df['rendimento'].max() - pnad_df['rendimento'].min()\n",
    "print(amplitude_rendimento)"
   ]
  },
  {
   "cell_type": "code",
   "execution_count": null,
   "metadata": {},
   "outputs": [],
   "source": [
    "amplitude_idade = pnad_df['idade'].max() - pnad_df['idade'].min()\n",
    "print(amplitude_idade)"
   ]
  },
  {
   "cell_type": "markdown",
   "metadata": {},
   "source": [
    "## Variância\n",
    "A variância de uma amostra de valores (dados não agrupados), $x_{1}, x_{2},\\ldots,x_{n}$, é definida como sendo a média dos quadrados dos desvios das medidas em relação à sua média $\\overline{x}$.\n",
    "\n",
    "$$ S^{2} = \\frac{\\displaystyle \\sum_{i=1}^{n}(x_{i} - \\overline{x})^{2}}{n} $$"
   ]
  },
  {
   "cell_type": "code",
   "execution_count": null,
   "metadata": {
    "colab": {
     "base_uri": "https://localhost:8080/",
     "height": 34
    },
    "colab_type": "code",
    "id": "HZPdOWPJscd0",
    "outputId": "f29f08c7-bdc7-4ba7-cb26-e53930acd39c"
   },
   "outputs": [],
   "source": [
    "pnad_df['rendimento'].var()"
   ]
  },
  {
   "cell_type": "code",
   "execution_count": null,
   "metadata": {},
   "outputs": [],
   "source": [
    "pnad_df['idade'].var()"
   ]
  },
  {
   "cell_type": "markdown",
   "metadata": {},
   "source": [
    "## Desvio Padrão\n",
    "O desvio padrão é definido como a raiz quadrada da média aritmética dos quadrados dos desvios em relação à média. É a mais importante medida de variabilidade, dada pela seguinte fórmula:\n",
    "\n",
    "$$ S = \\sqrt{ \\frac{\\displaystyle \\sum_{i=1}^{n}(x_{i} - \\overline{x})^{2}}{n}} $$"
   ]
  },
  {
   "cell_type": "code",
   "execution_count": null,
   "metadata": {
    "colab": {
     "base_uri": "https://localhost:8080/",
     "height": 34
    },
    "colab_type": "code",
    "id": "fwuZ0w-hsy_7",
    "outputId": "240ab6d0-df31-4696-d383-8a8a3f9d7c72"
   },
   "outputs": [],
   "source": [
    "pnad_df['rendimento'].std()"
   ]
  },
  {
   "cell_type": "code",
   "execution_count": null,
   "metadata": {},
   "outputs": [],
   "source": [
    "pnad_df['idade'].std()"
   ]
  },
  {
   "cell_type": "markdown",
   "metadata": {},
   "source": [
    "**Atenção:** O $pandas$ disponibiliza a função $describe()$ que gera as estatísticas descritivas que resumem a tendência central, a dispersão e a forma da distribuição de um conjunto de dados, excluindo os valores de NaN. Analisa séries numéricas e de objetos, bem como conjuntos de colunas DataFrame de tipos de dados mistos."
   ]
  },
  {
   "cell_type": "code",
   "execution_count": null,
   "metadata": {},
   "outputs": [],
   "source": [
    "pnad_df['rendimento'].describe()"
   ]
  },
  {
   "cell_type": "code",
   "execution_count": null,
   "metadata": {},
   "outputs": [],
   "source": [
    "pnad_df['idade'].describe()"
   ]
  },
  {
   "cell_type": "markdown",
   "metadata": {},
   "source": [
    "---\n",
    "# Visualização gráfica de dados - Parte IV\n",
    "---\n",
    "\n",
    "A apresentação dos dados estatísticos através de tabelas ou medidas de centralidade e variabiliadade nem sempre proporciona um entendimento adequado dos dados. Assim, com a finalidade de melhorar esse processo, muitos recorrem ao uso dos gráficos."
   ]
  },
  {
   "cell_type": "markdown",
   "metadata": {},
   "source": [
    "## Histograma\n",
    "O histograma representa a distribuição dos dados, formando compartimentos ao longo do intervalo dos dados, desenhados por barras para mostrar a frequência de observações dos dados em cada compartimento."
   ]
  },
  {
   "cell_type": "code",
   "execution_count": null,
   "metadata": {
    "colab": {},
    "colab_type": "code",
    "id": "MmzoZlZHDFOQ"
   },
   "outputs": [],
   "source": [
    "#configurando o estilo das imagens geradas pelo seaborn\n",
    "sns.set(style='darkgrid')"
   ]
  },
  {
   "cell_type": "code",
   "execution_count": null,
   "metadata": {
    "colab_type": "text",
    "id": "Xu6W0kMcFc4_"
   },
   "outputs": [],
   "source": [
    "sns.distplot(pnad_df['idade'])"
   ]
  },
  {
   "cell_type": "code",
   "execution_count": null,
   "metadata": {
    "colab": {
     "base_uri": "https://localhost:8080/",
     "height": 308
    },
    "colab_type": "code",
    "id": "uzIKs8khsSyG",
    "outputId": "d7b5a576-e269-4a9e-e86e-67d36703bc2b"
   },
   "outputs": [],
   "source": [
    "sns.distplot(bolsa_df['OPEN'])"
   ]
  },
  {
   "cell_type": "code",
   "execution_count": null,
   "metadata": {
    "colab": {
     "base_uri": "https://localhost:8080/",
     "height": 308
    },
    "colab_type": "code",
    "id": "bzeSzvIwGTON",
    "outputId": "3785c448-48f0-4f81-bdca-4f5278db98b9"
   },
   "outputs": [],
   "source": [
    "sns.distplot(bolsa_df['CLOSE'])"
   ]
  },
  {
   "cell_type": "markdown",
   "metadata": {},
   "source": [
    "## Gráfico de barras e linhas"
   ]
  },
  {
   "cell_type": "code",
   "execution_count": null,
   "metadata": {
    "colab": {
     "base_uri": "https://localhost:8080/",
     "height": 382
    },
    "colab_type": "code",
    "id": "F7tQYgYcPyGc",
    "outputId": "f8ec637a-10f6-4f1a-9d47-3123983ea2c5"
   },
   "outputs": [],
   "source": [
    "sns.catplot(data=pnad_df, kind='count', x = 'sexo')"
   ]
  },
  {
   "cell_type": "code",
   "execution_count": null,
   "metadata": {
    "colab": {
     "base_uri": "https://localhost:8080/",
     "height": 402
    },
    "colab_type": "code",
    "id": "Tx9Yjj78RWl3",
    "outputId": "22dddbc8-4a46-44aa-dab5-aa4bb909d218"
   },
   "outputs": [],
   "source": [
    "titanic = sns.load_dataset(\"titanic\")\n",
    "sns.catplot(x=\"sex\", y=\"survived\", hue=\"class\", kind=\"bar\", data=titanic, aspect=2)"
   ]
  },
  {
   "cell_type": "code",
   "execution_count": null,
   "metadata": {},
   "outputs": [],
   "source": [
    "sns.relplot(data=(pnad_df['idade']), kind='line', aspect=3)"
   ]
  },
  {
   "cell_type": "code",
   "execution_count": null,
   "metadata": {
    "colab": {
     "base_uri": "https://localhost:8080/",
     "height": 402
    },
    "colab_type": "code",
    "id": "lvXfxnUDDVL6",
    "outputId": "b066bac3-ed92-41ce-cbf7-d0ad061f8234"
   },
   "outputs": [],
   "source": [
    "sns.relplot(data=bolsa_df['OPEN'], kind='line', aspect=3)"
   ]
  },
  {
   "cell_type": "markdown",
   "metadata": {
    "colab_type": "text",
    "id": "SS2FpVqkSDPN"
   },
   "source": [
    "## Gráficos de setores"
   ]
  },
  {
   "cell_type": "code",
   "execution_count": null,
   "metadata": {
    "colab": {
     "base_uri": "https://localhost:8080/",
     "height": 323
    },
    "colab_type": "code",
    "id": "Kyb8GrDlD7Nn",
    "outputId": "176512d8-3dce-41a2-a47e-a264d2fb66f7"
   },
   "outputs": [],
   "source": [
    "txtLabels = 'Cats', 'Dogs', 'Frogs', 'Others'\n",
    "fractions = [45, 30, 15, 10]\n",
    "offsets =(0, 0.05, 0, 0)\n",
    "plt.pie(fractions, explode=offsets, labels=txtLabels,\n",
    "autopct='%1.1f%%', shadow=True, startangle=90,\n",
    "colors=sns.color_palette('muted') )\n",
    "plt.axis('equal')"
   ]
  },
  {
   "cell_type": "code",
   "execution_count": null,
   "metadata": {
    "colab": {
     "base_uri": "https://localhost:8080/",
     "height": 297
    },
    "colab_type": "code",
    "id": "8bB9SZkeD9Wq",
    "outputId": "7bc2cc91-92f8-4323-90fd-1772b67b65fd"
   },
   "outputs": [],
   "source": [
    "df = pd.DataFrame(3 * np.random.rand(4, 2), index=['a', 'b', 'c', 'd'], \n",
    "                  columns=['x', 'y'])\n",
    "df.plot.pie(subplots=True, figsize=(8, 4))"
   ]
  },
  {
   "cell_type": "markdown",
   "metadata": {
    "colab_type": "text",
    "id": "ltgDRooXdfTm"
   },
   "source": [
    "## Boxplot"
   ]
  },
  {
   "cell_type": "code",
   "execution_count": null,
   "metadata": {
    "colab": {
     "base_uri": "https://localhost:8080/",
     "height": 291
    },
    "colab_type": "code",
    "id": "YRPu1j6DWI4x",
    "outputId": "f6767eaa-f678-402a-a295-90eaa40835dd"
   },
   "outputs": [],
   "source": [
    "sns.boxplot(data=bolsa_df, order=['OPEN', 'CLOSE', 'HIGH', 'LOW'])"
   ]
  },
  {
   "cell_type": "code",
   "execution_count": null,
   "metadata": {
    "colab": {
     "base_uri": "https://localhost:8080/",
     "height": 269
    },
    "colab_type": "code",
    "id": "AKc5ZKS2X8lN",
    "outputId": "cc5a7360-a56c-4f54-f086-6becf7a2de4f"
   },
   "outputs": [],
   "source": [
    "iris = sns.load_dataset(\"iris\")\n",
    "ax = sns.boxplot(data=iris, orient=\"h\", palette=\"Set2\")"
   ]
  },
  {
   "cell_type": "markdown",
   "metadata": {
    "colab_type": "text",
    "id": "D61-bZGq-N2B"
   },
   "source": [
    "## Gráfico de dispersão"
   ]
  },
  {
   "cell_type": "code",
   "execution_count": null,
   "metadata": {
    "colab": {
     "base_uri": "https://localhost:8080/",
     "height": 386
    },
    "colab_type": "code",
    "id": "95zjrxGZG3zn",
    "outputId": "08ec69a8-acfa-456c-a2ca-134a51d1586a"
   },
   "outputs": [],
   "source": [
    "sns.catplot(data=iris)"
   ]
  },
  {
   "cell_type": "markdown",
   "metadata": {
    "colab_type": "text",
    "id": "4WgHiLe5_qFi"
   },
   "source": [
    "**Atenção:** abordagem que ajusta os pontos ao longo do eixo categórico usando um algoritmo que os impede de se sobrepor."
   ]
  },
  {
   "cell_type": "code",
   "execution_count": null,
   "metadata": {
    "colab": {
     "base_uri": "https://localhost:8080/",
     "height": 386
    },
    "colab_type": "code",
    "id": "lQ_RrRqQ-oZk",
    "outputId": "976977ef-d0d2-4e8b-a59e-167462de9d1e"
   },
   "outputs": [],
   "source": [
    "sns.catplot(data=iris, kind='swarm')"
   ]
  },
  {
   "cell_type": "markdown",
   "metadata": {},
   "source": [
    "---\n",
    "# Correlação - Parte V\n",
    "---\n",
    "\n",
    "O termo correlação representa, sob o ponto de vista da estatística, uma medida de associação entre duas ou mais variáveis. Por definição, se forem considerados numa população, os pares de valores de duas variáveis $(x_{i}, y_{i})$, a correlação pode ser definida da sequinte forma:\n",
    "\n",
    "$$ \\rho = \\frac{\\displaystyle\\sum_{i=1}^{n}(x_{i} - \\overline{x})(y_{i} - \\overline{y})}{\\sqrt{\\left[\\displaystyle\\sum_{i=1}^{n}(x_{i} - \\overline{x})^2\\right]\\left[\\displaystyle\\sum_{i=1}^{n}(y_{i} - \\overline{y})^2\\right]}} $$\n",
    "\n",
    "O valor da correção, conhecido como coeficiente de correlação, assume valores no intervalo de $-1$ a $1$, de acordo com o grau de associação entre as variáveis em questão. Este grau de associação pode ser interpretado da seguinte forma:\n",
    "- 0,9 a 1 positivo ou negativo indica uma correlação muito forte.\n",
    "- 0,7 a 0,9 positivo ou negativo indica uma correlação forte.\n",
    "- 0,5 a 0,7 positivo ou negativo indica uma correlação moderada.\n",
    "- 0,3 a 0,5 positivo ou negativo indica uma correlação fraca.\n",
    "- 0 a 0,3 positivo ou negativo indica uma correlação desprezível.\n"
   ]
  },
  {
   "cell_type": "code",
   "execution_count": null,
   "metadata": {
    "colab": {
     "base_uri": "https://localhost:8080/",
     "height": 255
    },
    "colab_type": "code",
    "id": "fbN1JkrMALoN",
    "outputId": "8bc0df6d-e3f0-4374-c558-850fbe54d839"
   },
   "outputs": [],
   "source": [
    "mpg_df = sns.load_dataset('mpg')\n",
    "mpg_df.head()"
   ]
  },
  {
   "cell_type": "code",
   "execution_count": null,
   "metadata": {
    "colab": {
     "base_uri": "https://localhost:8080/",
     "height": 255
    },
    "colab_type": "code",
    "id": "Br7Ikd2VkKYj",
    "outputId": "a7cd160b-9abb-4486-8b65-730c16e1cdb8"
   },
   "outputs": [],
   "source": [
    "mpg_df.info()"
   ]
  },
  {
   "cell_type": "code",
   "execution_count": null,
   "metadata": {
    "colab": {
     "base_uri": "https://localhost:8080/",
     "height": 34
    },
    "colab_type": "code",
    "id": "-icM2cCmkjkD",
    "outputId": "815a419f-f49c-4a93-daf3-f466865aa4fe"
   },
   "outputs": [],
   "source": [
    "mpg_df['mpg'].corr(mpg_df['weight'])"
   ]
  },
  {
   "cell_type": "markdown",
   "metadata": {
    "colab_type": "text",
    "id": "SDGQjj9Slh4q"
   },
   "source": [
    "É possível também verificar todas as correlações de forma simultânea."
   ]
  },
  {
   "cell_type": "code",
   "execution_count": null,
   "metadata": {
    "colab": {
     "base_uri": "https://localhost:8080/",
     "height": 266
    },
    "colab_type": "code",
    "id": "ZD3qg3d1lNQd",
    "outputId": "022b5de8-3238-4cff-e885-3607745c79dc"
   },
   "outputs": [],
   "source": [
    "mpg_df.corr()"
   ]
  },
  {
   "cell_type": "code",
   "execution_count": null,
   "metadata": {
    "colab": {
     "base_uri": "https://localhost:8080/",
     "height": 163
    },
    "colab_type": "code",
    "id": "Dr26LVQAlf-3",
    "outputId": "824226fb-daf0-46bc-b2d5-abc59e320a21"
   },
   "outputs": [],
   "source": [
    "mpg_df.corr().style.background_gradient(cmap=plt.get_cmap('coolwarm'), axis=1)"
   ]
  },
  {
   "cell_type": "markdown",
   "metadata": {},
   "source": [
    "---\n",
    "\n",
    "__Licensa__\n",
    "\n",
    "![](https://drive.google.com/uc?export=view&id=1Uq7UxJPT9ytP0ABv8hYNWo9ciDZB7guX)\n",
    "\n",
    "*This work is licensed under the Creative Commons Attribution-NonCommercial 4.0 International License. To view a copy of this license, visit http://creativecommons.org/licenses/by-nc/4.0/ or send a letter to Creative Commons, PO Box 1866, Mountain View, CA 94042, USA.*"
   ]
  }
 ],
 "metadata": {
  "colab": {
   "collapsed_sections": [],
   "name": "eda-enumcompi-2019.ipynb",
   "provenance": []
  },
  "kernelspec": {
   "display_name": "Python 3",
   "language": "python",
   "name": "python3"
  },
  "language_info": {
   "codemirror_mode": {
    "name": "ipython",
    "version": 3
   },
   "file_extension": ".py",
   "mimetype": "text/x-python",
   "name": "python",
   "nbconvert_exporter": "python",
   "pygments_lexer": "ipython3",
   "version": "3.7.3"
  }
 },
 "nbformat": 4,
 "nbformat_minor": 1
}
